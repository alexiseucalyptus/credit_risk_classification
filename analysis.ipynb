{
 "cells": [
  {
   "cell_type": "markdown",
   "id": "2df7bbcc-1c18-4a82-a0e6-d0e8a00e6da9",
   "metadata": {},
   "source": [
    "### Write a Credit Risk Analysis Report (20 points)\n",
    "To receive all points, you must:\n",
    "\n",
    "Provide an overview that explains the purpose of this analysis. (5 points)\n",
    "\n",
    "Using a bulleted list, describe the accuracy, precision, and recall scores of the machine learning model. (5 points)\n",
    "\n",
    "Summarize the results from the machine learning model. Include your justification for recommending the model for use by the company. If you don’t recommend the model, justify your reasoning. (10 points)"
   ]
  },
  {
   "cell_type": "markdown",
   "id": "5586bbd0-5c9b-4a63-906a-c2ba5424fec4",
   "metadata": {},
   "source": [
    "###\n",
    "The purpose of this analysis is to evaluate the creditworthiness of borrowers using a logistic regression model. By analyzing historical lending data from a peer-to-peer lending service, we aim to create a model that can accurately predict whether a loan is likely to be healthy (repaid without issues) or high-risk (likely to default). The model's predictions can help the company make more informed lending decisions, potentially reducing the risk of loan defaults and improving overall financial performance.\n",
    "Model Performance Metrics\n",
    "The performance of the logistic regression model was evaluated using the following metrics:\n",
    "\n",
    "Accuracy: The proportion of correct predictions (both healthy and high-risk loans) made by the model out of all predictions.\n",
    "Precision:\n",
    "Healthy Loans (Label 0): The proportion of loans predicted as healthy that are actually healthy.\n",
    "High-Risk Loans (Label 1): The proportion of loans predicted as high-risk that are actually high-risk.\n",
    "Recall:\n",
    "Healthy Loans (Label 0): The proportion of actual healthy loans that were correctly predicted by the model.\n",
    "High-Risk Loans (Label 1): The proportion of actual high-risk loans that were correctly predicted by the model.\n",
    "\n",
    "\n",
    "Summary and Recommendation\n",
    "The logistic regression model showed the following results:\n",
    "\n",
    "Healthy Loans (Label 0):\n",
    "High precision and recall, indicating that the model effectively identifies and correctly classifies most healthy loans.\n",
    "High-Risk Loans (Label 1):\n",
    "The model's performance may vary depending on the balance between precision and recall. If the recall for high-risk loans is high, the model is effective in identifying high-risk loans, which is crucial for minimizing potential defaults.\n",
    "Recommendation:\n",
    "Based on the performance metrics, the logistic regression model is a valuable tool for predicting the creditworthiness of borrowers. It performs well in distinguishing between healthy and high-risk loans, which can significantly aid in the decision-making process for lending. However, if the model shows any bias towards one class (e.g., lower precision or recall for high-risk loans), further tuning or additional models may be required to enhance predictive accuracy.\n",
    "\n",
    "If the model's precision and recall for high-risk loans are reasonably high, it is recommended for use by the company to reduce the risk of loan defaults. However, if there is a significant imbalance in predicting high-risk loans, further improvements should be made before deployment."
   ]
  },
  {
   "cell_type": "code",
   "execution_count": null,
   "id": "0c8ff1c2-5a0f-4c4a-9b75-fb290a8ac626",
   "metadata": {},
   "outputs": [],
   "source": []
  }
 ],
 "metadata": {
  "kernelspec": {
   "display_name": "Python 3 (ipykernel)",
   "language": "python",
   "name": "python3"
  },
  "language_info": {
   "codemirror_mode": {
    "name": "ipython",
    "version": 3
   },
   "file_extension": ".py",
   "mimetype": "text/x-python",
   "name": "python",
   "nbconvert_exporter": "python",
   "pygments_lexer": "ipython3",
   "version": "3.11.7"
  }
 },
 "nbformat": 4,
 "nbformat_minor": 5
}
